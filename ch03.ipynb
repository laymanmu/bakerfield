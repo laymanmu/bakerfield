{
 "cells": [
  {
   "cell_type": "markdown",
   "id": "1adbe854-fcbe-4683-8f2b-71053bc03888",
   "metadata": {},
   "source": [
    "## Convolutional Neural Networks"
   ]
  },
  {
   "cell_type": "code",
   "execution_count": 1,
   "id": "ebfdc89c-30e7-4688-9923-e73a009351ea",
   "metadata": {
    "scrolled": true
   },
   "outputs": [
    {
     "name": "stdout",
     "output_type": "stream",
     "text": [
      "Epoch 1/50\n",
      "1875/1875 [==============================] - 17s 9ms/step - loss: 0.4400 - accuracy: 0.8420\n",
      "Epoch 2/50\n",
      "1875/1875 [==============================] - 17s 9ms/step - loss: 0.2956 - accuracy: 0.8911\n",
      "Epoch 3/50\n",
      "1875/1875 [==============================] - 18s 9ms/step - loss: 0.2510 - accuracy: 0.9067\n",
      "Epoch 4/50\n",
      "1875/1875 [==============================] - 18s 10ms/step - loss: 0.2187 - accuracy: 0.9188\n",
      "Epoch 5/50\n",
      "1875/1875 [==============================] - 18s 10ms/step - loss: 0.1926 - accuracy: 0.9279\n",
      "Epoch 6/50\n",
      "1875/1875 [==============================] - 18s 10ms/step - loss: 0.1705 - accuracy: 0.9358\n",
      "Epoch 7/50\n",
      "1875/1875 [==============================] - 19s 10ms/step - loss: 0.1506 - accuracy: 0.9435\n",
      "Epoch 8/50\n",
      "1875/1875 [==============================] - 19s 10ms/step - loss: 0.1326 - accuracy: 0.9493\n",
      "Epoch 9/50\n",
      "1875/1875 [==============================] - 19s 10ms/step - loss: 0.1165 - accuracy: 0.9561\n",
      "Epoch 10/50\n",
      "1875/1875 [==============================] - 19s 10ms/step - loss: 0.1044 - accuracy: 0.9609\n",
      "Epoch 11/50\n",
      "1875/1875 [==============================] - 17s 9ms/step - loss: 0.0902 - accuracy: 0.9659\n",
      "Epoch 12/50\n",
      "1875/1875 [==============================] - 17s 9ms/step - loss: 0.0802 - accuracy: 0.9699\n",
      "Epoch 13/50\n",
      "1875/1875 [==============================] - 17s 9ms/step - loss: 0.0729 - accuracy: 0.9725\n",
      "Epoch 14/50\n",
      "1875/1875 [==============================] - 18s 9ms/step - loss: 0.0637 - accuracy: 0.9759\n",
      "Epoch 15/50\n",
      "1875/1875 [==============================] - 17s 9ms/step - loss: 0.0567 - accuracy: 0.9782\n",
      "Epoch 16/50\n",
      "1875/1875 [==============================] - 18s 9ms/step - loss: 0.0510 - accuracy: 0.9805\n",
      "Epoch 17/50\n",
      "1875/1875 [==============================] - 18s 10ms/step - loss: 0.0465 - accuracy: 0.9825\n",
      "Epoch 18/50\n",
      "1875/1875 [==============================] - 18s 10ms/step - loss: 0.0451 - accuracy: 0.9829\n",
      "Epoch 19/50\n",
      "1875/1875 [==============================] - 18s 10ms/step - loss: 0.0377 - accuracy: 0.9858\n",
      "Epoch 20/50\n",
      "1875/1875 [==============================] - 18s 9ms/step - loss: 0.0401 - accuracy: 0.9847\n",
      "Epoch 21/50\n",
      "1875/1875 [==============================] - 18s 9ms/step - loss: 0.0346 - accuracy: 0.9875\n",
      "Epoch 22/50\n",
      "1875/1875 [==============================] - 18s 10ms/step - loss: 0.0327 - accuracy: 0.9879\n",
      "Epoch 23/50\n",
      "1875/1875 [==============================] - 18s 10ms/step - loss: 0.0319 - accuracy: 0.9879\n",
      "Epoch 24/50\n",
      "1875/1875 [==============================] - 18s 10ms/step - loss: 0.0296 - accuracy: 0.9895\n",
      "Epoch 25/50\n",
      "1875/1875 [==============================] - 19s 10ms/step - loss: 0.0302 - accuracy: 0.9887\n",
      "Epoch 26/50\n",
      "1875/1875 [==============================] - 19s 10ms/step - loss: 0.0271 - accuracy: 0.9905\n",
      "Epoch 27/50\n",
      "1875/1875 [==============================] - 19s 10ms/step - loss: 0.0281 - accuracy: 0.9899\n",
      "Epoch 28/50\n",
      "1875/1875 [==============================] - 19s 10ms/step - loss: 0.0222 - accuracy: 0.9922\n",
      "Epoch 29/50\n",
      "1875/1875 [==============================] - 19s 10ms/step - loss: 0.0263 - accuracy: 0.9904\n",
      "Epoch 30/50\n",
      "1875/1875 [==============================] - 19s 10ms/step - loss: 0.0249 - accuracy: 0.9910\n",
      "Epoch 31/50\n",
      "1875/1875 [==============================] - 19s 10ms/step - loss: 0.0194 - accuracy: 0.9932\n",
      "Epoch 32/50\n",
      "1875/1875 [==============================] - 19s 10ms/step - loss: 0.0264 - accuracy: 0.9912\n",
      "Epoch 33/50\n",
      "1875/1875 [==============================] - 19s 10ms/step - loss: 0.0243 - accuracy: 0.9919\n",
      "Epoch 34/50\n",
      "1875/1875 [==============================] - 19s 10ms/step - loss: 0.0225 - accuracy: 0.9926\n",
      "Epoch 35/50\n",
      "1875/1875 [==============================] - 19s 10ms/step - loss: 0.0198 - accuracy: 0.9934\n",
      "Epoch 36/50\n",
      "1875/1875 [==============================] - 19s 10ms/step - loss: 0.0188 - accuracy: 0.9937\n",
      "Epoch 37/50\n",
      "1875/1875 [==============================] - 19s 10ms/step - loss: 0.0196 - accuracy: 0.9932\n",
      "Epoch 38/50\n",
      "1875/1875 [==============================] - 19s 10ms/step - loss: 0.0219 - accuracy: 0.9923\n",
      "Epoch 39/50\n",
      "1875/1875 [==============================] - 20s 11ms/step - loss: 0.0183 - accuracy: 0.9939\n",
      "Epoch 40/50\n",
      "1875/1875 [==============================] - 19s 10ms/step - loss: 0.0224 - accuracy: 0.9926\n",
      "Epoch 41/50\n",
      "1875/1875 [==============================] - 19s 10ms/step - loss: 0.0183 - accuracy: 0.9940\n",
      "Epoch 42/50\n",
      "1875/1875 [==============================] - 19s 10ms/step - loss: 0.0157 - accuracy: 0.9950\n",
      "Epoch 43/50\n",
      "1875/1875 [==============================] - 19s 10ms/step - loss: 0.0181 - accuracy: 0.9940\n",
      "Epoch 44/50\n",
      "1875/1875 [==============================] - 19s 10ms/step - loss: 0.0186 - accuracy: 0.9938\n",
      "Epoch 45/50\n",
      "1875/1875 [==============================] - 19s 10ms/step - loss: 0.0187 - accuracy: 0.9939\n",
      "Epoch 46/50\n",
      "1875/1875 [==============================] - 19s 10ms/step - loss: 0.0170 - accuracy: 0.9948\n",
      "Epoch 47/50\n",
      "1875/1875 [==============================] - 19s 10ms/step - loss: 0.0180 - accuracy: 0.9943\n",
      "Epoch 48/50\n",
      "1875/1875 [==============================] - 19s 10ms/step - loss: 0.0189 - accuracy: 0.9937\n",
      "Epoch 49/50\n",
      "1875/1875 [==============================] - 19s 10ms/step - loss: 0.0142 - accuracy: 0.9955\n",
      "Epoch 50/50\n",
      "1875/1875 [==============================] - 18s 10ms/step - loss: 0.0178 - accuracy: 0.9941\n",
      "313/313 [==============================] - 1s 4ms/step - loss: 0.8747 - accuracy: 0.9110\n"
     ]
    },
    {
     "data": {
      "text/plain": [
       "[0.8747064471244812, 0.9110000133514404]"
      ]
     },
     "execution_count": 1,
     "metadata": {},
     "output_type": "execute_result"
    }
   ],
   "source": [
    "import tensorflow as tf\n",
    "\n",
    "data = tf.keras.datasets.fashion_mnist\n",
    "\n",
    "(training_images, training_labels), (test_images, test_labels) = data.load_data()\n",
    "\n",
    "training_images = training_images.reshape(60000, 28, 28, 1)\n",
    "training_images = training_images / 255.0\n",
    "\n",
    "test_images = test_images.reshape(10000, 28, 28, 1)\n",
    "test_images = test_images / 255.0\n",
    "\n",
    "model = tf.keras.models.Sequential([\n",
    "    tf.keras.layers.Conv2D(64, (3, 3), activation='relu', input_shape=(28, 28, 1)),\n",
    "    tf.keras.layers.MaxPooling2D(2, 2),\n",
    "    tf.keras.layers.Conv2D(64, (3, 3), activation='relu'),\n",
    "    tf.keras.layers.MaxPooling2D(2,2),\n",
    "    tf.keras.layers.Flatten(),\n",
    "    tf.keras.layers.Dense(128, activation=tf.nn.relu),\n",
    "    tf.keras.layers.Dense(10, activation=tf.nn.softmax)\n",
    "])\n",
    "\n",
    "model.compile(optimizer='adam', loss='sparse_categorical_crossentropy', metrics=['accuracy'])\n",
    "\n",
    "model.fit(training_images, training_labels, epochs=50)\n",
    "\n",
    "model.evaluate(test_images, test_labels)"
   ]
  },
  {
   "cell_type": "code",
   "execution_count": 5,
   "id": "7722f50a-cc48-444e-909e-da84bcb422a5",
   "metadata": {},
   "outputs": [
    {
     "name": "stdout",
     "output_type": "stream",
     "text": [
      "313/313 [==============================] - 1s 3ms/step\n",
      "expected: 9, actual: 9\n",
      "expected: 2, actual: 2\n",
      "expected: 1, actual: 1\n",
      "expected: 1, actual: 1\n",
      "expected: 6, actual: 6\n",
      "expected: 1, actual: 1\n",
      "expected: 4, actual: 4\n",
      "expected: 6, actual: 6\n",
      "expected: 5, actual: 5\n",
      "expected: 7, actual: 7\n"
     ]
    }
   ],
   "source": [
    "classifications = model.predict(test_images)\n",
    "for i in range(10):\n",
    "  print(f'expected: {test_labels[i]}, actual: {classifications[i].argmax(axis=0)}')"
   ]
  },
  {
   "cell_type": "markdown",
   "id": "4e4a2391-862b-481a-bccd-8c7ed80938a2",
   "metadata": {},
   "source": [
    "---"
   ]
  },
  {
   "cell_type": "code",
   "execution_count": null,
   "id": "0282e367-e5b3-4817-81ed-e6cff1e0b5e6",
   "metadata": {},
   "outputs": [],
   "source": []
  }
 ],
 "metadata": {
  "kernelspec": {
   "display_name": "Python 3 (ipykernel)",
   "language": "python",
   "name": "python3"
  },
  "language_info": {
   "codemirror_mode": {
    "name": "ipython",
    "version": 3
   },
   "file_extension": ".py",
   "mimetype": "text/x-python",
   "name": "python",
   "nbconvert_exporter": "python",
   "pygments_lexer": "ipython3",
   "version": "3.8.16"
  }
 },
 "nbformat": 4,
 "nbformat_minor": 5
}
