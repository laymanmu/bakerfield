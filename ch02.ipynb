{
 "cells": [
  {
   "cell_type": "markdown",
   "id": "04083e0a-9485-4a82-ba04-e0869b8c3d1a",
   "metadata": {},
   "source": [
    "the model consists of 3 layers:\n",
    "* first: input layer spec\n",
    "* second: \"hidden\" neuron layer. 128 neurons, random init, relu will allow flowing to next level if a value is > 0\n",
    "* third: output layer. 10 neurons per 10 possible outputs (classes)"
   ]
  },
  {
   "cell_type": "markdown",
   "id": "45d30271-1ad6-462d-bfc4-c86d4bf0729d",
   "metadata": {},
   "source": [
    "## train to a specific accuracy using callbacks"
   ]
  },
  {
   "cell_type": "code",
   "execution_count": 42,
   "id": "d0f7f9dc-5c5c-4ecd-bc08-81048d2fb071",
   "metadata": {
    "scrolled": true
   },
   "outputs": [
    {
     "name": "stdout",
     "output_type": "stream",
     "text": [
      "Epoch 1/50\n",
      "1875/1875 [==============================] - 1s 597us/step - loss: 0.4998 - accuracy: 0.8250\n",
      "Epoch 2/50\n",
      "1875/1875 [==============================] - 1s 601us/step - loss: 0.3741 - accuracy: 0.8649\n",
      "Epoch 3/50\n",
      "1875/1875 [==============================] - 1s 574us/step - loss: 0.3365 - accuracy: 0.8770\n",
      "Epoch 4/50\n",
      "1875/1875 [==============================] - 1s 578us/step - loss: 0.3132 - accuracy: 0.8850\n",
      "Epoch 5/50\n",
      "1875/1875 [==============================] - 1s 580us/step - loss: 0.2950 - accuracy: 0.8912\n",
      "Epoch 6/50\n",
      "1875/1875 [==============================] - 1s 576us/step - loss: 0.2804 - accuracy: 0.8975\n",
      "Epoch 7/50\n",
      "1875/1875 [==============================] - 1s 572us/step - loss: 0.2680 - accuracy: 0.8998\n",
      "Epoch 8/50\n",
      "1875/1875 [==============================] - 1s 566us/step - loss: 0.2581 - accuracy: 0.9034\n",
      "Epoch 9/50\n",
      "1875/1875 [==============================] - 1s 580us/step - loss: 0.2471 - accuracy: 0.9086\n",
      "Epoch 10/50\n",
      "1875/1875 [==============================] - 1s 589us/step - loss: 0.2382 - accuracy: 0.9102\n",
      "Epoch 11/50\n",
      "1875/1875 [==============================] - 1s 707us/step - loss: 0.2316 - accuracy: 0.9140\n",
      "Epoch 12/50\n",
      "1875/1875 [==============================] - 1s 583us/step - loss: 0.2232 - accuracy: 0.9154\n",
      "Epoch 13/50\n",
      "1875/1875 [==============================] - 1s 597us/step - loss: 0.2160 - accuracy: 0.9195\n",
      "Epoch 14/50\n",
      "1875/1875 [==============================] - 1s 580us/step - loss: 0.2099 - accuracy: 0.9202\n",
      "Epoch 15/50\n",
      "1875/1875 [==============================] - 1s 577us/step - loss: 0.2028 - accuracy: 0.9252\n",
      "Epoch 16/50\n",
      "1875/1875 [==============================] - 1s 605us/step - loss: 0.1986 - accuracy: 0.9256\n",
      "Epoch 17/50\n",
      "1875/1875 [==============================] - 1s 633us/step - loss: 0.1931 - accuracy: 0.9267\n",
      "Epoch 18/50\n",
      "1875/1875 [==============================] - 1s 601us/step - loss: 0.1859 - accuracy: 0.9309\n",
      "Epoch 19/50\n",
      "1875/1875 [==============================] - 1s 623us/step - loss: 0.1832 - accuracy: 0.9307\n",
      "Epoch 20/50\n",
      "1875/1875 [==============================] - 1s 584us/step - loss: 0.1781 - accuracy: 0.9327\n",
      "Epoch 21/50\n",
      "1875/1875 [==============================] - 1s 619us/step - loss: 0.1745 - accuracy: 0.9354\n",
      "Epoch 22/50\n",
      "1875/1875 [==============================] - 1s 580us/step - loss: 0.1689 - accuracy: 0.9366\n",
      "Epoch 23/50\n",
      "1875/1875 [==============================] - 1s 578us/step - loss: 0.1669 - accuracy: 0.9377\n",
      "Epoch 24/50\n",
      "1875/1875 [==============================] - 1s 577us/step - loss: 0.1597 - accuracy: 0.9405\n",
      "Epoch 25/50\n",
      "1875/1875 [==============================] - 1s 578us/step - loss: 0.1581 - accuracy: 0.9412\n",
      "Epoch 26/50\n",
      "1875/1875 [==============================] - 1s 576us/step - loss: 0.1552 - accuracy: 0.9412\n",
      "Epoch 27/50\n",
      "1875/1875 [==============================] - 1s 589us/step - loss: 0.1543 - accuracy: 0.9419\n",
      "Epoch 28/50\n",
      "1875/1875 [==============================] - 1s 569us/step - loss: 0.1460 - accuracy: 0.9452\n",
      "Epoch 29/50\n",
      "1875/1875 [==============================] - 1s 576us/step - loss: 0.1442 - accuracy: 0.9464\n",
      "Epoch 30/50\n",
      "1875/1875 [==============================] - 1s 573us/step - loss: 0.1417 - accuracy: 0.9470\n",
      "Epoch 31/50\n",
      "1875/1875 [==============================] - 1s 578us/step - loss: 0.1394 - accuracy: 0.9473\n",
      "Epoch 32/50\n",
      "1875/1875 [==============================] - 1s 569us/step - loss: 0.1359 - accuracy: 0.9496\n",
      "Epoch 33/50\n",
      "1875/1875 [==============================] - 1s 575us/step - loss: 0.1357 - accuracy: 0.9497\n",
      "Epoch 34/50\n",
      "1795/1875 [===========================>..] - ETA: 0s - loss: 0.1305 - accuracy: 0.9515\n",
      "reached desired accuracy: 0.95, stopping training.\n",
      "1875/1875 [==============================] - 1s 588us/step - loss: 0.1310 - accuracy: 0.9512\n"
     ]
    },
    {
     "data": {
      "text/plain": [
       "<keras.src.callbacks.History at 0x294b46a00>"
      ]
     },
     "execution_count": 42,
     "metadata": {},
     "output_type": "execute_result"
    }
   ],
   "source": [
    "import tensorflow as tf\n",
    "\n",
    "class Trainer(tf.keras.callbacks.Callback):\n",
    "    def __init__(self, desired_accuracy):\n",
    "        self.desired_accuracy = desired_accuracy\n",
    "        \n",
    "    def on_epoch_end(self, epoch, logs={}):\n",
    "        if (logs.get('accuracy') >= self.desired_accuracy):\n",
    "            print(f'\\nreached desired accuracy: {self.desired_accuracy}, stopping training.')\n",
    "            self.model.stop_training = True\n",
    "\n",
    "\n",
    "mnist = tf.keras.datasets.fashion_mnist\n",
    "\n",
    "(training_images, training_labels), (test_images, test_labels) = mnist.load_data()\n",
    "\n",
    "# normalize:\n",
    "training_images = training_images / 255.0\n",
    "test_images = test_images / 255.0\n",
    "\n",
    "model = tf.keras.models.Sequential([\n",
    "    tf.keras.layers.Flatten(),\n",
    "    tf.keras.layers.Dense(128, activation=tf.nn.relu),\n",
    "    tf.keras.layers.Dense(10, activation=tf.nn.softmax)\n",
    "])\n",
    "\n",
    "model.compile(optimizer='adam', loss='sparse_categorical_crossentropy', metrics=['accuracy'])\n",
    "\n",
    "trainer = Trainer(0.95)\n",
    "\n",
    "model.fit(training_images, training_labels, epochs=50, callbacks=[trainer])"
   ]
  },
  {
   "cell_type": "code",
   "execution_count": 43,
   "id": "55f0f74c-e2e8-49c9-8354-c968865a1560",
   "metadata": {},
   "outputs": [
    {
     "name": "stdout",
     "output_type": "stream",
     "text": [
      "313/313 [==============================] - 0s 401us/step - loss: 0.4191 - accuracy: 0.8923\n"
     ]
    },
    {
     "data": {
      "text/plain": [
       "[0.41906341910362244, 0.892300009727478]"
      ]
     },
     "execution_count": 43,
     "metadata": {},
     "output_type": "execute_result"
    }
   ],
   "source": [
    "model.evaluate(test_images, test_labels)"
   ]
  },
  {
   "cell_type": "markdown",
   "id": "267e6d2a-ad12-4c81-9fd4-f3d95c0450c2",
   "metadata": {},
   "source": [
    "\n",
    "## how to determine success rate found in model.evaulate()\n",
    "* the `test_labels` array contains the expected classification (0 - 9)\n",
    "* the `classifications` array contains 9 values, highest index is the result"
   ]
  },
  {
   "cell_type": "code",
   "execution_count": 45,
   "id": "a6617be3-f2bb-420c-a5d9-b6059b4f6e6a",
   "metadata": {},
   "outputs": [
    {
     "name": "stdout",
     "output_type": "stream",
     "text": [
      "313/313 [==============================] - 0s 379us/step\n",
      "89% success rate. found 1077 classification failures out of 10000 tests\n"
     ]
    }
   ],
   "source": [
    "classifications = model.predict(test_images)\n",
    "total = 0\n",
    "failed = 0\n",
    "for i in range(10000):\n",
    "    total += 1\n",
    "    expect = test_labels[i]\n",
    "    actual = classifications[i].argmax(axis=0)\n",
    "    try:\n",
    "        assert expect == actual\n",
    "    except:\n",
    "        failed += 1\n",
    "success = total - failed\n",
    "rate = round((success / total) * 100.0)\n",
    "print(f'{rate}% success rate. found {failed} classification failures out of {total} tests')"
   ]
  }
 ],
 "metadata": {
  "kernelspec": {
   "display_name": "Python 3 (ipykernel)",
   "language": "python",
   "name": "python3"
  },
  "language_info": {
   "codemirror_mode": {
    "name": "ipython",
    "version": 3
   },
   "file_extension": ".py",
   "mimetype": "text/x-python",
   "name": "python",
   "nbconvert_exporter": "python",
   "pygments_lexer": "ipython3",
   "version": "3.8.16"
  }
 },
 "nbformat": 4,
 "nbformat_minor": 5
}
